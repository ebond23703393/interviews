{
 "cells": [
  {
   "cell_type": "code",
   "execution_count": 86,
   "id": "a882be0d",
   "metadata": {},
   "outputs": [],
   "source": [
    "#pip install -U langchain-openai\n",
    "#pip install tiktoken\n",
    "#pip install langchain openai faiss-cpu PyPDF2\n",
    "#%pip install -qU langchain_community pypdf\n",
    "#pip install streamlit\n"
   ]
  },
  {
   "cell_type": "code",
   "execution_count": 87,
   "id": "51287e4d",
   "metadata": {},
   "outputs": [],
   "source": [
    "from langchain_openai import ChatOpenAI\n",
    "import streamlit as st\n",
    "from langchain.chat_models import ChatOpenAI\n",
    "from langchain.chains import RetrievalQA\n",
    "from langchain.vectorstores import FAISS\n",
    "from langchain.embeddings import OpenAIEmbeddings\n",
    "from langchain.document_loaders import PyPDFLoader\n",
    "from langchain.text_splitter import CharacterTextSplitter\n",
    "import tempfile\n",
    "import os\n",
    "from langchain.prompts import PromptTemplate"
   ]
  },
  {
   "cell_type": "code",
   "execution_count": 88,
   "id": "e7500b00",
   "metadata": {},
   "outputs": [],
   "source": [
    "from langchain.document_loaders import PyPDFLoader\n",
    "from langchain.text_splitter import RecursiveCharacterTextSplitter\n",
    "\n",
    "# Load your PDF\n",
    "raw = \"C:/Users/edward_b/github/interviews-env/interviews/app/static\"\n",
    "pdf_paths = [f\"{raw}/Handbook Volume 2.pdf\", f\"{raw}/Handbook Volume 1.pdf\"]\n",
    "all_docs = []\n",
    "\n",
    "for pdf_path in pdf_paths:\n",
    "    loader = PyPDFLoader(pdf_path)\n",
    "    documents = loader.load()\n",
    "    all_docs.extend(documents)\n"
   ]
  },
  {
   "cell_type": "code",
   "execution_count": 89,
   "id": "70fceac9",
   "metadata": {},
   "outputs": [],
   "source": [
    "# Split it into manageable chunks\n",
    "splitter = RecursiveCharacterTextSplitter(chunk_size=800, chunk_overlap=200)\n",
    "chunks = splitter.split_documents(all_docs)"
   ]
  },
  {
   "cell_type": "code",
   "execution_count": 90,
   "id": "8c3a0591",
   "metadata": {},
   "outputs": [],
   "source": [
    "import getpass\n",
    "import os\n",
    "\n",
    "if not os.getenv(\"OPENAI_API_KEY\"):\n",
    "    os.environ[\"OPENAI_API_KEY\"] = getpass.getpass(\"Enter your OpenAI API key: \")"
   ]
  },
  {
   "cell_type": "code",
   "execution_count": 91,
   "id": "0a419f64",
   "metadata": {},
   "outputs": [],
   "source": [
    "from langchain.embeddings import OpenAIEmbeddings\n",
    "from langchain.vectorstores import FAISS\n",
    "\n",
    "embedding_model = OpenAIEmbeddings(model='text-embedding-ada-002') #  model name\n",
    "db = FAISS.from_documents(chunks, embedding_model)\n"
   ]
  },
  {
   "cell_type": "code",
   "execution_count": 107,
   "id": "2ce44d9a",
   "metadata": {},
   "outputs": [],
   "source": [
    "from langchain.chat_models import ChatOpenAI\n",
    "from langchain.chains import RetrievalQA\n",
    "\n",
    "retriever = db.as_retriever(search_kwargs={\"k\": 6})\n"
   ]
  },
  {
   "cell_type": "code",
   "execution_count": 121,
   "id": "d77e5aa4",
   "metadata": {},
   "outputs": [],
   "source": [
    "template = \"\"\"\n",
    "You are an expert answering questions using only the context below. \n",
    "Provide detailed responses in organised bullet points to the questions based on the context.\n",
    "If the answer is not in the context, say \"I don't know\".\n",
    "\n",
    "Context:\n",
    "{context}\n",
    "\n",
    "Question:\n",
    "{question}\n",
    "\n",
    "Answer in 3-5 sentences:\n",
    "\"\"\"\n",
    "\n",
    "qa_prompt = PromptTemplate.from_template(template)"
   ]
  },
  {
   "cell_type": "code",
   "execution_count": 122,
   "id": "4b055b3f",
   "metadata": {},
   "outputs": [
    {
     "data": {
      "text/plain": [
       "'\\n# Step 6: Ask a question\\nquery = \"Discuss school feeding programs and how they are treated in the Handbook.\"\\nresult = qa_chain.invoke({\"query\": query})\\n\\n# Step 7: Print the result\\n#print(\"📌 Answer:\\n\", result[\"result\"])\\n#print(\"\\n📚 Source Documents:\")\\nfor i, doc in enumerate(result[\"source_documents\"], 1):\\n    #print(f\"\\n--- Source {i} ---\")\\n    #print(doc.page_content)\\n'"
      ]
     },
     "execution_count": 122,
     "metadata": {},
     "output_type": "execute_result"
    }
   ],
   "source": [
    "# Step 5: Set up RetrievalQA chain with source tracking\n",
    "qa_chain = RetrievalQA.from_chain_type(\n",
    "    llm=ChatOpenAI(temperature=0.1, max_tokens=500, model_name='gpt-4o-mini'),\n",
    "    chain_type=\"stuff\",\n",
    "    retriever=retriever,\n",
    "    return_source_documents=True,\n",
    "     chain_type_kwargs={\"prompt\": qa_prompt}\n",
    "\n",
    ")\n",
    "\n",
    "'''\n",
    "# Step 6: Ask a question\n",
    "query = \"Discuss school feeding programs and how they are treated in the Handbook.\"\n",
    "result = qa_chain.invoke({\"query\": query})\n",
    "\n",
    "# Step 7: Print the result\n",
    "#print(\"📌 Answer:\\n\", result[\"result\"])\n",
    "#print(\"\\n📚 Source Documents:\")\n",
    "for i, doc in enumerate(result[\"source_documents\"], 1):\n",
    "    #print(f\"\\n--- Source {i} ---\")\n",
    "    #print(doc.page_content)\n",
    "'''"
   ]
  },
  {
   "cell_type": "code",
   "execution_count": 123,
   "id": "f7e1e622",
   "metadata": {},
   "outputs": [
    {
     "name": "stdout",
     "output_type": "stream",
     "text": [
      "\n",
      "Answer:\n",
      " - Corruption can significantly impact the efficacy of various programs, particularly in the context of environmental regulation and antipoverty initiatives.\n",
      "- In the environmental auditing example by Duﬂo et al. (2013), auditors under the status quo system were found to systematically underreport emissions due to conflicts of interest, while a restructured payment system led to more truthful reporting.\n",
      "- Antipoverty programs can also suffer from corruption and inefficiencies if not implemented properly, as highlighted by the challenges in the Bono de Desarrollo Humano (BDH) program in Ecuador, where conditionality was not enforced, leading to different behavioral responses among beneficiaries.\n",
      "- Additionally, research indicates that individuals aspiring for public sector jobs may exhibit higher levels of corruption compared to those in the private sector, suggesting a need for careful personnel policy design to mitigate corruption risks.\n",
      "\n",
      "Sources:\n",
      "\n",
      "Source 1:\n",
      "they audit.Duﬂo et al. (2013)examine the implications of corrupted informationﬂows\n",
      "for regulatory efﬁcacy. In a largeﬁeld experiment conducted with the environmental\n",
      "regulator in Gujarat, they altered the assignment and payment mechanism for third-party\n",
      "environmental auditors of industrial plants. Under the status quo, the auditors were hired\n",
      "and paid for by the plant they audited. In the treatment group, auditors were instead\n",
      "randomly assigned to plants and paid aﬁxed salary from a central pool of funds. The\n",
      "experiment demonstrated that the status quo system was largely corrupted, with auditors\n",
      "systematically reporting plant emissions just below the standard, although true emissions\n",
      "were typically higher. Second, the treatment caused auditors to report more truthfully\n",
      "\n",
      "Source 2:\n",
      "A transfer program may look like a winner on paper but may be a totalﬂop in practice if\n",
      "the implementation is haphazard. Some of this may be purely administrative, e.g.,\n",
      "ensuring that the right number of staff is hired, and that they are properly trained and\n",
      "motivated. This may require incentives to not shirk on the job, as well as to not engage\n",
      "in bad behaviors, e.g., siphon off funds or food, or reallocate the funds to friends or po-\n",
      "litical supporters rather than those who are most in need.\n",
      "Therefore, in designing randomized evaluations of antipoverty programs, it is also\n",
      "important to think about whether, theoretically, a particular aspect of the implementa-\n",
      "tion is likely to be particularly vulnerable to problems. There are two types of variations\n",
      "\n",
      "Source 3:\n",
      "who cheated in a random dice game are more likely to express interest in a public sector\n",
      "job. In a corruption experiment with private sector job aspirants and aspirants of the In-\n",
      "dian bureaucracy,Banerjee et al. (2015)examine embezzlement of resources in which\n",
      "“supervisors” evaluate the performance of“workers” and then pay them. Theyﬁnd\n",
      "that aspirant bureaucrats are more corrupt than private sector aspirants, but their likeli-\n",
      "hood of being corrupt is similar across sectors.\n",
      "This tradeoff in vocational proﬁles has also received theoretical attention regarding\n",
      "how best to design personnel policy. In addition to the intrinsically motivated, govern-\n",
      "ments and other mission-driven organizations value individuals of high quality as well.\n",
      "\n",
      "Source 4:\n",
      "the details of the underlying structuredfrom who should implement the program to\n",
      "how one should make the transfersdmay matter tremendously, affecting the level of\n",
      "leakages and corruption, the targeting, the costs for beneﬁciaries to access the program,\n",
      "and potentially how beneﬁciaries spend their entitlements. For example, there is an\n",
      "extensive work, in general, exploring how ofﬁcials’ incentives affect their work output,\n",
      "22 Although as of the time of this chapter, there are several exciting ongoing studies in Chile and India.\n",
      "542 Handbook of Field Experiments\n",
      "\n",
      "Source 5:\n",
      "corruption at the implementation level, both can lead to de facto removal of the condi-\n",
      "tionality. This occurred, for example, in Ecuador with theBono de Desarrollo Humano\n",
      "(BDH) program. An evaluation of the program thus analyzes the results as if the program\n",
      "is an UCT (Fernald and Hidrobo, 2011; Paxson and Schady, 2010). However, a CCT\n",
      "program that fails to enforce may ultimately generate a different behavioral response\n",
      "than just a pure UCT. For example, in the Ecuador case, many households believed\n",
      "that the funds were indeed conditional, even though in reality they were not.\n",
      "Enforcement of conditions is an area worthy of further research, but it is not obvious\n",
      "that this is an appropriate randomized trial territory. While one could randomize the\n",
      "\n",
      "Source 6:\n",
      "for these types of transfer programs? In the long run, would local ofﬁcials who may have\n",
      "previously siphoned off cash during disbursementsﬁnd other ways to“ tax” citizens who\n",
      "now receive cash directly via mobile money?\n",
      "An ambitious project byMuralidharan et al. (2014)also aims to address some of these\n",
      "types of questions. They evaluated the impact of biometrically authenticated payments\n",
      "Designing Social Protection Programs 543\n"
     ]
    }
   ],
   "source": [
    "query = \"what do we know about the corruption of different types of programs?\" \n",
    "result = qa_chain({\"query\": query})\n",
    "\n",
    "print(\"\\nAnswer:\\n\", result[\"result\"])\n",
    "print(\"\\nSources:\")\n",
    "for i, doc in enumerate(result[\"source_documents\"], 1):\n",
    "    print(f\"\\nSource {i}:\\n{doc.page_content}\")  # Short preview"
   ]
  },
  {
   "cell_type": "code",
   "execution_count": 81,
   "id": "eab2b810",
   "metadata": {},
   "outputs": [
    {
     "data": {
      "text/plain": [
       "{'query': 'What are the benefits of conditional cash transfers?',\n",
       " 'result': 'Conditional cash transfers (CCTs) have several benefits, including:\\n1. **Improving Education**: CCT programs can incentivize families to send their children to school regularly by conditioning cash transfers on school attendance. This can lead to higher educational outcomes.\\n2. **Enhancing Health**: CCTs can encourage families to invest in preventive health measures by linking cash transfers to health-related conditions. This can lead to improved health outcomes.\\n3. **Reducing Poverty**: By providing cash transfers to families in need, CCT programs can help alleviate poverty and improve the overall well-being of households.\\n4. **Behavioral Changes**: CCTs can promote positive behavioral changes, such as increased school attendance, better health practices, and overall improved decision-making within households.\\n5. **Social Protection**: Conditional cash transfers can act as a form of social protection, especially for vulnerable populations, by providing financial support while encouraging investments in education and health.\\n\\nThese benefits have been observed in various studies and evaluations of CCT programs in different countries.',\n",
       " 'source_documents': [Document(id='3d6a2b7b-d6c9-42d2-a10c-7d4b0d0964cf', metadata={'producer': 'PDFsharp 1.32.2608-g (www.pdfsharp.net)', 'creator': 'PDFsharp 1.32.2608-g (www.pdfsharp.net)', 'creationdate': '2017-07-28T07:13:02+02:00', 'author': '\\x104<8=8AB@0B>@', 'source': 'C:/Users/edward_b/github/interviews-env/interviews/app/static/Handbook Volume 2.pdf', 'total_pages': 653, 'page': 553, 'page_label': '554'}, page_content='hl¼en&lr¼&id¼5GOzBQAAQBAJ&oi¼fnd&pg¼PP1&dq¼BeyondþContributoryþPensions:þFourteenþ\\nExperiencesþwithþCoverageþExpansionþinþLatinþAmerica&ots¼OCI8ZK8PDk&sig¼Bza3L1VoqX0fN\\ntcDLvnIl3KrOUY.\\nSaavedra, J., Garcia, S., 2012. Impacts of Conditional Cash Transfer Programs on Educational Outcomes in\\nDeveloping Countries. Product Page.http://www.rand.org/pubs/working_papers/WR921-1.html.\\nSchady, N., Araujo, M.C., Pe~na, X., L/C19opez-Calva, L.F., 2008. Cash transfers, conditions, and school enroll-\\nment in Ecuador [with comments]. Econ. J. Lat. Am. Caribb. Econ. Assoc. 43e77.\\nSchultz, T.P., 2004. School subsidies for the poor: evaluating the Mexican progresa poverty program. J. Dev.\\nEcon. 74 (1), 199e250.'),\n",
       "  Document(id='1da8d3ce-c084-4f9f-8492-291f64be17fd', metadata={'producer': 'PDFsharp 1.32.2608-g (www.pdfsharp.net)', 'creator': 'PDFsharp 1.32.2608-g (www.pdfsharp.net)', 'creationdate': '2017-07-28T07:13:02+02:00', 'author': '\\x104<8=8AB@0B>@', 'source': 'C:/Users/edward_b/github/interviews-env/interviews/app/static/Handbook Volume 2.pdf', 'total_pages': 653, 'page': 530, 'page_label': '531'}, page_content='alcohol) or that household-bargaining constraints would imply that cash transfers would\\ncause socially undesirable outcomes, such as an underinvestment in children or an exit\\nfrom the labor market.\\nThe second is to directly condition the receipt of transfers to households on a house-\\nhold’s compliance with certain long-term investments, such as the children attending\\nschool or visiting health clinics. These CCT programs have become increasingly com-\\nmon in Latin America and have begun to spread to other parts of the world, existing\\nin more than 52 developing countries as of 2013 (Fiszbein and Schady, 2009; Saavedra\\nand Garcia, 2012; Gentilini et al., 2014). And,ﬁnally, note that some programs do a com-\\nbination of both in-kind and conditions, with 130 countries doing some sort of condi-'),\n",
       "  Document(id='5f72d7ca-29a0-415b-9ff2-489e0963c9d7', metadata={'producer': 'PDFsharp 1.32.2608-g (www.pdfsharp.net)', 'creator': 'PDFsharp 1.32.2608-g (www.pdfsharp.net)', 'creationdate': '2017-07-28T07:13:02+02:00', 'author': '\\x104<8=8AB@0B>@', 'source': 'C:/Users/edward_b/github/interviews-env/interviews/app/static/Handbook Volume 2.pdf', 'total_pages': 653, 'page': 549, 'page_label': '550'}, page_content='app.20130272 .\\nBaird, S., McIntosh, C.,€Ozler, B., 2011. Cash or condition? Evidence from a cash transfer experiment. Q. J.\\nEcon. 126 (4), 1709e1753. http://dx.doi.org/10.1093/qje/qjr032.\\nBaker, J.L., Grosh, M.E., 1994. Poverty reduction through geographic targeting: how well does it work?\\nWorld Dev. 22 (7), 983e995. http://dx.doi.org/10.1016/0305-750X(94)90143-0.\\nBandiera, O., Burgess, R., Das, N., Gulesci, S., Rasul, I., Sulaiman, M., 2016. Labor Markets and Poverty in\\nVillage Economies. LSE Working Paper.http://sticerd.lse.ac.uk/dps/eopp/eopp43.pdf.\\nBanerjee, A., Duﬂo, E., Chattopadhyay, R., Shapiro, J., 2016. Long Term Impact of a Livelihood Interven-\\ntion: Evidence from West Bengal (Working Paper).'),\n",
       "  Document(id='2e0c6ba6-d0a6-4a0b-9556-9545ca02c811', metadata={'producer': 'PDFsharp 1.32.2608-g (www.pdfsharp.net)', 'creator': 'PDFsharp 1.32.2608-g (www.pdfsharp.net)', 'creationdate': '2017-07-28T07:13:02+02:00', 'author': '\\x104<8=8AB@0B>@', 'source': 'C:/Users/edward_b/github/interviews-env/interviews/app/static/Handbook Volume 2.pdf', 'total_pages': 653, 'page': 53, 'page_label': '54'}, page_content='that investment in preventive health increased signiﬁcantly for those who gained access to\\na simple saving technology.\\nOne study focuses more speciﬁcally on the reproductive health impacts of providing\\ncash transfers to adolescent girls in Malawi.Baird et al. (2012)randomly assigned 175\\nenumeration areas (EAs) to three groups: girls in 46 EAs received conditional cash trans-\\nfers (CCTs) if they achieved 80% school attendance; those in 27 EAs received uncondi-\\ntional cash transfers (UCTs); 88 EAs served as a comparison group and did not receive\\ntransfers. The cash transfers signiﬁcantly lowered the prevalence rates of HIV and the her-\\npes simplex 2 virus (HSV2). For example, 1.2% of girls enrolled in school at baseline who')]}"
      ]
     },
     "execution_count": 81,
     "metadata": {},
     "output_type": "execute_result"
    }
   ],
   "source": [
    "result"
   ]
  },
  {
   "cell_type": "code",
   "execution_count": null,
   "id": "2e5cc24e",
   "metadata": {},
   "outputs": [],
   "source": [
    "while True:\n",
    "    query = input(\"Ask something (or type 'exit'): \")\n",
    "    if query.lower() in [\"exit\", \"quit\"]:\n",
    "        break\n",
    "    else:\n",
    "        with st.spinner(\"thinking...\"):\n",
    "            result = qa_chain({\"query\": query})\n",
    "            print(\"\\nAnswer:\\n\", result[\"result\"])\n",
    "            print(\"\\nSources:\")\n",
    "            for i, doc in enumerate(result[\"source_documents\"], 1):\n",
    "                print(f\"\\nSource {i}:\\n{doc.page_content[:300]}...\")  # Short preview"
   ]
  }
 ],
 "metadata": {
  "kernelspec": {
   "display_name": "Python 3",
   "language": "python",
   "name": "python3"
  },
  "language_info": {
   "codemirror_mode": {
    "name": "ipython",
    "version": 3
   },
   "file_extension": ".py",
   "mimetype": "text/x-python",
   "name": "python",
   "nbconvert_exporter": "python",
   "pygments_lexer": "ipython3",
   "version": "3.12.10"
  }
 },
 "nbformat": 4,
 "nbformat_minor": 5
}
